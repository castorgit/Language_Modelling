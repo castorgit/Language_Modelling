{
 "cells": [
  {
   "cell_type": "markdown",
   "metadata": {},
   "source": [
    "Flavio Giobergia  \n",
    "*Research Bites @ Data Science Lab*"
   ]
  },
  {
   "cell_type": "markdown",
   "metadata": {},
   "source": [
    "### Word embeddings demo\n",
    "\n",
    "To load and use word embeddings, we will be using [gensim](https://radimrehurek.com/gensim/)."
   ]
  },
  {
   "cell_type": "code",
   "execution_count": null,
   "metadata": {},
   "outputs": [],
   "source": []
  },
  {
   "cell_type": "code",
   "execution_count": 1,
   "metadata": {},
   "outputs": [],
   "source": [
    "from gensim.models import KeyedVectors\n",
    "from sklearn.decomposition import PCA\n",
    "import matplotlib.pyplot as plt\n",
    "%matplotlib inline"
   ]
  },
  {
   "cell_type": "markdown",
   "metadata": {},
   "source": [
    "Here, we load a word embedding using `load_word2vec_format()`, a method from the `KeyedVectors` class.\n",
    "\n",
    "`KeyedVectors` is a class that manages embeddings such as word2vec, in which we have a key (word) used for look-up and an associated vector. More about that in the [official documentation](https://radimrehurek.com/gensim/models/keyedvectors.html).\n",
    "\n",
    "The \"word2vec format\" (used in [`load_word2vec_format()`](https://radimrehurek.com/gensim/models/keyedvectors.html)) is a simple format in which the first line is:\n",
    "\n",
    "```\n",
    "N M\n",
    "```\n",
    "\n",
    "`N` is the number of rows (or words) and `M` is the number of columns (or dimensions). \n",
    "Then, `N` lines follow, each one as shown below:\n",
    "\n",
    "```\n",
    "word_i val1 val2 ... valM\n",
    "```\n",
    "Where `(val1, val2, ... valM)` is the M-dimensional vector that encodes `word_i`. \n",
    "\n",
    "\n",
    "The file that is being loaded here is `wiki.en.vec`, a word embedding trained with [fastText](https://fasttext.cc/), a \"newer\" version of word2vec. All fastText embeddings are available from the website (as well as all relevant references)."
   ]
  },
  {
   "cell_type": "code",
   "execution_count": 75,
   "metadata": {},
   "outputs": [],
   "source": [
    "# Download vectors from https://fasttext.cc/docs/en/pretrained-vectors.html\n",
    "#wv = KeyedVectors.load_word2vec_format(\"wiki.en.vec\")\n",
    "#wv = KeyedVectors.load_word2vec_format(\"wiki-news-300d-1M.vec\")\n",
    "wv = KeyedVectors.load_word2vec_format(\"crawl-300d-2M-subword.vec\")"
   ]
  },
  {
   "cell_type": "markdown",
   "metadata": {},
   "source": [
    "The `vocab` attribute is a dictionary of (key, vector) pairs. In this case, we can see that this dictionary contains 2,519,370 words."
   ]
  },
  {
   "cell_type": "code",
   "execution_count": 76,
   "metadata": {},
   "outputs": [
    {
     "data": {
      "text/plain": [
       "2000000"
      ]
     },
     "execution_count": 76,
     "metadata": {},
     "output_type": "execute_result"
    }
   ],
   "source": [
    "len(wv)"
   ]
  },
  {
   "cell_type": "markdown",
   "metadata": {},
   "source": [
    "For each word, we can extract the associated vector using either `wv.vocab[\"word\"]` (but that returns a Vector object), or using the `get_vector()` method of `KeyedVectors` (which returns a very convenient numpy array).\n",
    "\n",
    "In this case, the vectors are 300-dimensional (as shown below)."
   ]
  },
  {
   "cell_type": "code",
   "execution_count": 77,
   "metadata": {},
   "outputs": [
    {
     "data": {
      "text/plain": [
       "(numpy.ndarray, (300,))"
      ]
     },
     "execution_count": 77,
     "metadata": {},
     "output_type": "execute_result"
    }
   ],
   "source": [
    "type(wv.get_vector(\"italy\")), wv.get_vector(\"italy\").shape"
   ]
  },
  {
   "cell_type": "markdown",
   "metadata": {},
   "source": [
    "We can now extract vectors for all the words we want (as long as those words are included in the vocabulary!) and we can have some fun with vector operations. \n",
    "\n",
    "For example, we can try the classic \"rome\" - \"italy\" + \"france\", which should hopefully return \"paris\". To be more precise, if the vector for the word *word* is $v_{word}$, we are actually computing $v_{rome} - v_{italy} + v_{france}$ and we should get $v_{paris}$, since we are doing the operations on vectors, not on symbols. But, since there is a 1:1 mapping between symbols and vectors, we will use the less cumbersome notation \"rome\" - \"italy\" + \"france\" = \"paris\". \n",
    "\n",
    "Now, to be more precise, when we write \"=\" we actually mean \"is close to\". This means that the vector for \"rome\" - \"italy\" + \"france\" is actually some vectors that is not associated with any word (in `wv.vocab`). However, if we search all known words, we find that the closest one to our (latent) vector is indeed the vector for \"paris\". \n",
    "\n",
    "This is exactly what the `similar_by_vector()` method does: it receives a vector as input, and returns the closest known words (by specifying `topn=1`, only the \"first\" closest word is returned). \n",
    "\n",
    "The output of `similar_by_vector` is a list of (word, similarity) pairs (the list contains `topn` elements). The similarity is returned in terms of cosine similarity between the input vector and the vector for the returned word."
   ]
  },
  {
   "cell_type": "code",
   "execution_count": 78,
   "metadata": {},
   "outputs": [
    {
     "data": {
      "text/plain": [
       "[('rome', 0.8357623219490051)]"
      ]
     },
     "execution_count": 78,
     "metadata": {},
     "output_type": "execute_result"
    }
   ],
   "source": [
    "# rome - italy + france?\n",
    "\n",
    "vec_rome = wv.get_vector(\"rome\")\n",
    "vec_italy = wv.get_vector(\"italy\")\n",
    "vec_france = wv.get_vector(\"france\")\n",
    "wv.similar_by_vector(vec_rome - vec_italy + vec_france, topn=1)"
   ]
  },
  {
   "cell_type": "code",
   "execution_count": 79,
   "metadata": {},
   "outputs": [
    {
     "data": {
      "text/plain": [
       "[('king', 0.8437220454216003),\n",
       " ('queen', 0.7575955986976624),\n",
       " ('kings', 0.6283357739448547)]"
      ]
     },
     "execution_count": 79,
     "metadata": {},
     "output_type": "execute_result"
    }
   ],
   "source": [
    "# “king − man + woman ≈ queen”\n",
    "vec_queen = wv.get_vector(\"queen\")\n",
    "vec_king = wv.get_vector(\"king\")\n",
    "vec_woman = wv.get_vector(\"woman\")\n",
    "vec_feminine = wv.get_vector(\"feminine\")\n",
    "vec_royal = wv.get_vector(\"royal\")\n",
    "vec_boy = wv.get_vector(\"boy\")\n",
    "vec_prince = wv.get_vector(\"prince\")\n",
    "vec_man = wv.get_vector(\"man\")\n",
    "vec_macho = wv.get_vector(\"macho\")\n",
    "vec_manly = wv.get_vector(\"manly\")\n",
    "vec_adult = wv.get_vector(\"adult\")\n",
    "vec_crown = wv.get_vector(\"crown\")\n",
    "\n",
    "wv.similar_by_vector(vec_king - vec_man + vec_woman , topn=3)"
   ]
  },
  {
   "cell_type": "code",
   "execution_count": 81,
   "metadata": {},
   "outputs": [
    {
     "data": {
      "text/plain": [
       "[('king', 0.780688464641571),\n",
       " ('boy', 0.6730770468711853),\n",
       " ('prince', 0.6204152703285217)]"
      ]
     },
     "execution_count": 81,
     "metadata": {},
     "output_type": "execute_result"
    }
   ],
   "source": [
    "wv.similar_by_vector(vec_king - vec_man + vec_boy , topn=3)"
   ]
  },
  {
   "cell_type": "code",
   "execution_count": 82,
   "metadata": {},
   "outputs": [
    {
     "data": {
      "text/plain": [
       "[('king', 0.780688464641571),\n",
       " ('boy', 0.6730770468711853),\n",
       " ('prince', 0.6204152703285217)]"
      ]
     },
     "execution_count": 82,
     "metadata": {},
     "output_type": "execute_result"
    }
   ],
   "source": [
    "wv.similar_by_vector(vec_king - vec_man + vec_boy , topn=3)"
   ]
  },
  {
   "cell_type": "code",
   "execution_count": 83,
   "metadata": {},
   "outputs": [
    {
     "data": {
      "text/plain": [
       "[('queen', 0.8591006994247437),\n",
       " ('king', 0.803173303604126),\n",
       " ('queens', 0.6978293061256409)]"
      ]
     },
     "execution_count": 83,
     "metadata": {},
     "output_type": "execute_result"
    }
   ],
   "source": [
    "wv.similar_by_vector(vec_queen - vec_woman + vec_man, topn=3)"
   ]
  },
  {
   "cell_type": "markdown",
   "metadata": {},
   "source": [
    "We can now try our hand at something slightly more interesting (and more visual). We can get the vectors for a bunch of countries and their capital cities. For those words, we can extract their vectors and extract the first two principal components (i.e. the 2 components that retain the most variance for those points) using a PCA. We can now visualize those points (and the vectors that maps from the countries to the capitals) on a 2D plot."
   ]
  },
  {
   "cell_type": "code",
   "execution_count": 84,
   "metadata": {},
   "outputs": [],
   "source": [
    "countries = [\"china\",   \"russia\", \"japan\", \"turkey\", \"poland\", \"germany\", \"france\", \"italy\", \"greece\", \"spain\",  \"portugal\"]\n",
    "capitals  = [\"beijing\", \"moscow\", \"tokyo\", \"ankara\", \"warsaw\", \"berlin\",  \"paris\",  \"rome\",  \"athens\", \"madrid\", \"lisbon\"]"
   ]
  },
  {
   "cell_type": "code",
   "execution_count": 85,
   "metadata": {},
   "outputs": [
    {
     "data": {
      "image/png": "[encoded data removed]",
      "text/plain": [
       "<Figure size 720x720 with 1 Axes>"
      ]
     },
     "metadata": {
      "needs_background": "light"
     },
     "output_type": "display_data"
    }
   ],
   "source": [
    "\n",
    "\n",
    "def plot_pairs(wv, a, b):\n",
    "    \n",
    "    ndx_a = [ wv.key_to_index[a_i] for a_i in a ]\n",
    "    ndx_b = [ wv.key_to_index[b_i] for b_i in b ]\n",
    "    \n",
    "    pca = PCA(2)\n",
    "    wv2 = pca.fit_transform(wv.vectors[ndx_a + ndx_b])\n",
    "    \n",
    "    wv_a = wv2[:len(ndx_a)]\n",
    "    wv_b = wv2[len(ndx_a):]\n",
    "    \n",
    "    plt.figure(figsize=(10,10))\n",
    "    plt.scatter(wv_a[:,0], wv_a[:,1])\n",
    "    plt.scatter(wv_b[:,0], wv_b[:,1])\n",
    "    \n",
    "    for i, (p_a, p_b) in enumerate(zip(a,b)):\n",
    "        plt.annotate(p_a, wv_a[i], xytext=(-20,-15), textcoords=\"offset pixels\")\n",
    "        plt.annotate(p_b, wv_b[i], xytext=(-20,-15), textcoords=\"offset pixels\")\n",
    "        \n",
    "    for i in range(len(wv_a)):\n",
    "        plt.arrow(wv_a[i,0], wv_a[i,1], wv_b[i,0]-wv_a[i,0], wv_b[i,1]-wv_a[i,1], shape=\"left\")\n",
    "\n",
    "plot_pairs(wv, countries, capitals)"
   ]
  },
  {
   "cell_type": "markdown",
   "metadata": {},
   "source": [
    "We can see that capitals and countries are well separated. Additionally, the vector that maps each country to each capital (i.e. *country* - *capital*) is approximately the same. That vector \"encodes\" the concept of \"being a capital of\". Keep in mind that this very clean visualization is only possible because we are limiting the visualization (and the PCA) to a small subset of points (words). If we were to project all words, we would have obtained a much less interpretable result. \n",
    "\n",
    "This visualization, by the way, is very similar to the one presented in [1]."
   ]
  },
  {
   "cell_type": "markdown",
   "metadata": {},
   "source": [
    "Finally, let's conclude with what is probably the most famous example of word2vec: king - man + woman = queen. "
   ]
  },
  {
   "cell_type": "code",
   "execution_count": 21,
   "metadata": {},
   "outputs": [
    {
     "data": {
      "text/plain": [
       "[('king', 0.7955734729766846),\n",
       " ('queen', 0.680290162563324),\n",
       " ('princess', 0.5975186824798584),\n",
       " ('regnant', 0.5888891220092773),\n",
       " ('princesses', 0.5710145235061646)]"
      ]
     },
     "execution_count": 21,
     "metadata": {},
     "output_type": "execute_result"
    }
   ],
   "source": [
    "# king - man + woman = king??\n",
    "vec_king = wv.get_vector(\"king\")\n",
    "vec_man = wv.get_vector(\"man\")\n",
    "vec_woman = wv.get_vector(\"woman\")\n",
    "wv.similar_by_vector(vec_king - vec_man + vec_woman, topn=5)"
   ]
  },
  {
   "cell_type": "markdown",
   "metadata": {},
   "source": [
    "It turns out that word2vec actually predicts \"king\" as the closest word to king - man + woman! \n",
    "\n",
    "There is not a perfect explanation for this \"misprediction\", if not that word embeddings are not an all-seeing god the knows everything (as one might believe when they first hear about this kind of vector operations). \n",
    "\n",
    "In this case, \"king\" - \"man\" + \"woman\" is some vector that is quite close to both \"king\" and \"queen\" (though slightly closer to \"king\"). Also, notice how \"king\" and \"queen\" are also close to one another. Indeed, \"queen\" is the second most similar word to king (after \"kings\"). "
   ]
  },
  {
   "cell_type": "code",
   "execution_count": 22,
   "metadata": {},
   "outputs": [
    {
     "data": {
      "text/plain": [
       "[('king', 1.0),\n",
       " ('kings', 0.6761605143547058),\n",
       " ('queen', 0.6493092179298401),\n",
       " ('monarch', 0.6260097026824951),\n",
       " ('kingship', 0.5977715253829956),\n",
       " ('#king', 0.5955577492713928),\n",
       " ('throne', 0.5953187346458435),\n",
       " ('king/king', 0.5743653774261475),\n",
       " ('kingly', 0.5734266042709351),\n",
       " ('reign', 0.569341242313385)]"
      ]
     },
     "execution_count": 22,
     "metadata": {},
     "output_type": "execute_result"
    }
   ],
   "source": [
    "wv.similar_by_vector(vec_king, topn=10)"
   ]
  },
  {
   "cell_type": "markdown",
   "metadata": {},
   "source": [
    "One may now believe that, therefore, the operation -\"man\"+\"woman\" does not do much (and indeed maps \"king\" back to \"king\"). However, notice how other vectors close to \"king\"-\"man\"+\"woman\" are also related to the feminine version of king (\"queen\", \"princess\", \"princesses\"), whereas \"king\"'s closest words are related to the concept of kingship (indeed, \"kingship\" is one of those words). This means that \"king\"-\"man\"+\"woman\" is indeed moving towards a \"more feminine\" (for lack of a better definition) region.\n",
    "\n",
    "So, how did the \"king\" - \"man\" + \"woman\" = \"queen\" example become so famous? \n",
    "\n",
    "The example was actually mentioned in the original paper for word2vec [1].\n",
    "\n",
    "Also in that paper, we find the following statement:\n",
    "> The task consists of analogies such as “Germany” : “Berlin” :: “France” : ?, which are solved by finding a vector x such that vec(x) is closest to vec(“Berlin”) - vec(“Germany”) + vec(“France”) according to the cosine distance **(we discard the input words from the search)**\n",
    "\n",
    "In bold is the assumption that makes it so that \"king\" - \"man\" + \"woman\" is actually closest to \"queen\" (i.e. \"king\" is not considered, as it was part of the input). \n",
    "\n",
    "This little trick has been at the center of many heated discussions. In particular, word2vec has been accused of being biased: in [2] you can find an interesting discussion on the matter (as well as the fact that most of this so-called \"bias\" is due to this trick of excluding input words when computing the output). \n",
    "\n",
    "This trick has also been included in gensim: the method `most_similar()` takes as input a list of positive and negative words and computes the most similar word to the resulting vector (obtained as $ \\sum_i v_{pos,i} - \\sum_i v_{neg,i}$), but excludes input words from the output (as shown in the source code on [github](https://github.com/RaRe-Technologies/gensim/blob/eff2faf0eca0da7ad41d20e17b5ef46c11874148/gensim/models/keyedvectors.py#L782)). Indeed, if we try to use `most_similar(positive=[\"king\",\"man\"], negative=[\"woman\"])`, we get \"queen\"!\n",
    "\n",
    "All in all, the famous \"king\" example conveys the intuition behind word embeddings (i.e. we can now do operations with words, and (sometimes) the results make sense!) very easily, but we should probably stay away from all the unnecessary hype that has been built around it. Word embeddings are a great tool, not The Oracle!"
   ]
  },
  {
   "cell_type": "markdown",
   "metadata": {},
   "source": [
    "### References \n",
    "\n",
    "[1] Mikolov, Tomas, et al. \"Distributed representations of words and phrases and their compositionality.\" Advances in neural information processing systems 26 (2013): 3111-3119.  \n",
    "[2] Nissim, Malvina, Rik van Noord, and Rob van der Goot. \"Fair is better than sensational: Man is to doctor as woman is to doctor.\" (2020): 1-11."
   ]
  },
  {
   "cell_type": "code",
   "execution_count": 59,
   "metadata": {},
   "outputs": [],
   "source": [
    "es = KeyedVectors.load_word2vec_format(\"wiki.es.vec\")"
   ]
  },
  {
   "cell_type": "code",
   "execution_count": 60,
   "metadata": {},
   "outputs": [],
   "source": [
    "# “king − man + woman ≈ queen”\n",
    "vec_queen = wv.get_vector(\"reina\")\n",
    "vec_king = wv.get_vector(\"rey\")\n",
    "vec_woman = wv.get_vector(\"mujer\")\n",
    "vec_feminine = wv.get_vector(\"feminine\")\n",
    "vec_royal = wv.get_vector(\"royal\")\n",
    "vec_boy = wv.get_vector(\"boy\")\n",
    "vec_prince = wv.get_vector(\"prince\")\n",
    "vec_man = wv.get_vector(\"hombre\")\n",
    "vec_macho = wv.get_vector(\"macho\")\n",
    "vec_manly = wv.get_vector(\"manly\")\n",
    "vec_adult = wv.get_vector(\"adult\")\n",
    "vec_crown = wv.get_vector(\"crown\")"
   ]
  },
  {
   "cell_type": "code",
   "execution_count": 65,
   "metadata": {},
   "outputs": [
    {
     "data": {
      "text/plain": [
       "[('reina', 0.5513908863067627),\n",
       " ('macho', 0.549350917339325),\n",
       " ('katsuharu', 0.38748690485954285),\n",
       " ('rikishi', 0.3823675215244293),\n",
       " ('rikishiman', 0.38038456439971924),\n",
       " ('briscoes', 0.37671253085136414),\n",
       " ('takanonami', 0.37483057379722595),\n",
       " ('sakato', 0.36977338790893555),\n",
       " ('iori', 0.36885419487953186),\n",
       " ('takeru', 0.36864253878593445),\n",
       " ('matsuhara', 0.3684028685092926),\n",
       " ('kazuchika', 0.36610937118530273),\n",
       " ('masato', 0.3657550513744354),\n",
       " ('brawling', 0.3652316629886627),\n",
       " ('tomacho', 0.36433300375938416),\n",
       " ('kumaga', 0.3632347583770752),\n",
       " ('stablemates', 0.36284586787223816),\n",
       " ('tajiri', 0.3627178370952606),\n",
       " ('satozaki', 0.362650066614151),\n",
       " ('gigano', 0.36246809363365173)]"
      ]
     },
     "execution_count": 65,
     "metadata": {},
     "output_type": "execute_result"
    }
   ],
   "source": [
    "wv.similar_by_vector(vec_queen - vec_woman + vec_macho , topn=20)"
   ]
  },
  {
   "cell_type": "code",
   "execution_count": null,
   "metadata": {},
   "outputs": [],
   "source": []
  },
  {
   "cell_type": "code",
   "execution_count": 23,
   "metadata": {},
   "outputs": [
    {
     "name": "stdout",
     "output_type": "stream",
     "text": [
      "-----\n",
      "gensim              4.3.1\n",
      "matplotlib          3.5.0\n",
      "session_info        1.0.0\n",
      "sklearn             1.2.1\n",
      "-----\n",
      "IPython             7.29.0\n",
      "jupyter_client      8.2.0\n",
      "jupyter_core        5.3.0\n",
      "notebook            6.5.4\n",
      "-----\n",
      "Python 3.8.12 (default, Oct 12 2021, 13:49:34) [GCC 7.5.0]\n",
      "Linux-5.19.0-40-generic-x86_64-with-glibc2.17\n",
      "-----\n",
      "Session information updated at 2023-04-22 22:06\n"
     ]
    }
   ],
   "source": [
    "import session_info\n",
    "session_info.show(html=False)"
   ]
  }
 ],
 "metadata": {
  "kernelspec": {
   "display_name": "DL",
   "language": "python",
   "name": "dl"
  },
  "language_info": {
   "codemirror_mode": {
    "name": "ipython",
    "version": 3
   },
   "file_extension": ".py",
   "mimetype": "text/x-python",
   "name": "python",
   "nbconvert_exporter": "python",
   "pygments_lexer": "ipython3",
   "version": "3.8.12"
  }
 },
 "nbformat": 4,
 "nbformat_minor": 4
}
